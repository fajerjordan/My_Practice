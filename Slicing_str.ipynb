{
 "cells": [
  {
   "cell_type": "code",
   "execution_count": 1,
   "metadata": {},
   "outputs": [
    {
     "name": "stdout",
     "output_type": "stream",
     "text": [
      "m\n",
      "a\n",
      "a\n",
      "maji\n",
      "majida\n",
      "majida\n",
      "majida hatamleh\n",
      "majida hatamleh\n",
      "mjd aalh\n",
      "helmatah adijam\n"
     ]
    }
   ],
   "source": [
    "m = \"majida hatamleh\"\n",
    "print(m[0])\n",
    "print(m[5])\n",
    "print(m[1])\n",
    "print(m[0:4])\n",
    "print(m[ :6])\n",
    "print(m[0:6])\n",
    "print(m[ : ])\n",
    "print(m[0: ])\n",
    "print(m[0:15:2])\n",
    "print(m[::-1])"
   ]
  },
  {
   "cell_type": "code",
   "execution_count": null,
   "metadata": {},
   "outputs": [],
   "source": []
  }
 ],
 "metadata": {
  "kernelspec": {
   "display_name": "Python 3",
   "language": "python",
   "name": "python3"
  },
  "language_info": {
   "codemirror_mode": {
    "name": "ipython",
    "version": 3
   },
   "file_extension": ".py",
   "mimetype": "text/x-python",
   "name": "python",
   "nbconvert_exporter": "python",
   "pygments_lexer": "ipython3",
   "version": "3.7.4"
  }
 },
 "nbformat": 4,
 "nbformat_minor": 2
}
