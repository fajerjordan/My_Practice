{
 "cells": [
  {
   "cell_type": "code",
   "execution_count": 22,
   "metadata": {},
   "outputs": [
    {
     "name": "stdout",
     "output_type": "stream",
     "text": [
      "num= 0\n",
      "num= 2\n",
      "num= 4\n",
      "num= 6\n",
      "num= 8\n"
     ]
    }
   ],
   "source": [
    "for num in range (10):\n",
    "   if num % 2 == 0 :\n",
    "    print (\"num=\" , num )"
   ]
  },
  {
   "cell_type": "code",
   "execution_count": 23,
   "metadata": {},
   "outputs": [
    {
     "name": "stdout",
     "output_type": "stream",
     "text": [
      "num= 1\n",
      "num= 3\n",
      "num= 5\n",
      "num= 7\n",
      "num= 9\n"
     ]
    }
   ],
   "source": [
    "for num in range (10):\n",
    "   if num % 2 == 0 :\n",
    "    continue\n",
    "   print (\"num=\" , num)"
   ]
  },
  {
   "cell_type": "code",
   "execution_count": 24,
   "metadata": {},
   "outputs": [],
   "source": [
    "for num in range (10):\n",
    "    if num % 2 == 0 :\n",
    "     break\n",
    "     print(num)"
   ]
  },
  {
   "cell_type": "code",
   "execution_count": null,
   "metadata": {},
   "outputs": [],
   "source": []
  }
 ],
 "metadata": {
  "kernelspec": {
   "display_name": "Python 3",
   "language": "python",
   "name": "python3"
  },
  "language_info": {
   "codemirror_mode": {
    "name": "ipython",
    "version": 3
   },
   "file_extension": ".py",
   "mimetype": "text/x-python",
   "name": "python",
   "nbconvert_exporter": "python",
   "pygments_lexer": "ipython3",
   "version": "3.7.4"
  }
 },
 "nbformat": 4,
 "nbformat_minor": 2
}
