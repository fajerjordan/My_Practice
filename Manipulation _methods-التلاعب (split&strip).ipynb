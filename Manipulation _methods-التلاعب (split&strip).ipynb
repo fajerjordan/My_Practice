{
 "cells": [
  {
   "cell_type": "markdown",
   "metadata": {},
   "source": [
    "#P1: str.rsplit([sep[, maxsplit]]) & str.split([sep[, maxsplit]])"
   ]
  },
  {
   "cell_type": "code",
   "execution_count": 5,
   "metadata": {
    "scrolled": true
   },
   "outputs": [
    {
     "name": "stdout",
     "output_type": "stream",
     "text": [
      "['this is A pYthon Class']\n",
      "['this is A pYthon Class']\n"
     ]
    }
   ],
   "source": [
    "m= ('this is A pYthon Class')\n",
    "print(m.rsplit(sep=\" \", maxsplit=0))\n",
    "print(m.split(sep=\" \", maxsplit=0))"
   ]
  },
  {
   "cell_type": "code",
   "execution_count": 6,
   "metadata": {},
   "outputs": [
    {
     "name": "stdout",
     "output_type": "stream",
     "text": [
      "['this is A pYthon', 'Class']\n",
      "['this', 'is A pYthon Class']\n"
     ]
    }
   ],
   "source": [
    "m= ('this is A pYthon Class')\n",
    "print(m.rsplit(sep=\" \", maxsplit=1))\n",
    "print(m.split(sep=\" \", maxsplit=1))"
   ]
  },
  {
   "cell_type": "code",
   "execution_count": 7,
   "metadata": {},
   "outputs": [
    {
     "name": "stdout",
     "output_type": "stream",
     "text": [
      "['this is A', 'pYthon', 'Class']\n",
      "['this', 'is', 'A pYthon Class']\n"
     ]
    }
   ],
   "source": [
    "m= ('this is A pYthon Class')\n",
    "print(m.rsplit(sep=\" \", maxsplit=2))\n",
    "print(m.split(sep=\" \", maxsplit=2))"
   ]
  },
  {
   "cell_type": "code",
   "execution_count": 8,
   "metadata": {},
   "outputs": [
    {
     "name": "stdout",
     "output_type": "stream",
     "text": [
      "['this is', 'A', 'pYthon', 'Class']\n",
      "['this', 'is', 'A', 'pYthon Class']\n"
     ]
    }
   ],
   "source": [
    "m= ('this is A pYthon Class')\n",
    "print(m.rsplit(sep=\" \", maxsplit=3))\n",
    "print(m.split(sep=\" \", maxsplit=3))"
   ]
  },
  {
   "cell_type": "code",
   "execution_count": 9,
   "metadata": {},
   "outputs": [
    {
     "name": "stdout",
     "output_type": "stream",
     "text": [
      "['this', 'is', 'A', 'pYthon', 'Class']\n",
      "['this', 'is', 'A', 'pYthon', 'Class']\n"
     ]
    }
   ],
   "source": [
    "m= ('this is A pYthon Class')\n",
    "print(m.rsplit(sep=\" \", maxsplit=4))\n",
    "print(m.split(sep=\" \", maxsplit=4))"
   ]
  },
  {
   "cell_type": "code",
   "execution_count": 10,
   "metadata": {},
   "outputs": [
    {
     "name": "stdout",
     "output_type": "stream",
     "text": [
      "['this', 'is', 'A', 'pYthon', 'Class']\n",
      "['this', 'is', 'A', 'pYthon', 'Class']\n"
     ]
    }
   ],
   "source": [
    "m= ('this is A pYthon Class')\n",
    "print(m.rsplit(sep=\" \", maxsplit=5))\n",
    "print(m.split(sep=\" \", maxsplit=5))\n"
   ]
  },
  {
   "cell_type": "code",
   "execution_count": 11,
   "metadata": {},
   "outputs": [
    {
     "name": "stdout",
     "output_type": "stream",
     "text": [
      "['this', 'is', 'A', 'pYthon', 'Class']\n",
      "['this', 'is', 'A', 'pYthon', 'Class']\n"
     ]
    }
   ],
   "source": [
    "m= ('this is A pYthon Class')\n",
    "print(m.rsplit(sep=\" \", maxsplit=6))\n",
    "print(m.split(sep=\" \", maxsplit=6))"
   ]
  },
  {
   "cell_type": "markdown",
   "metadata": {},
   "source": [
    "#P2: str.splitlines([keepends])"
   ]
  },
  {
   "cell_type": "code",
   "execution_count": 14,
   "metadata": {
    "scrolled": true
   },
   "outputs": [
    {
     "name": "stdout",
     "output_type": "stream",
     "text": [
      "['My name is yazeed ', ' my age is 23 ', ' i love python']\n",
      "['My name is yazeed \\n', ' my age is 23 \\n', ' i love python']\n"
     ]
    }
   ],
   "source": [
    "x = 'My name is yazeed \\n my age is 23 \\n i love python'\n",
    "print(x.splitlines()) \n",
    "print(x.splitlines(True)) "
   ]
  },
  {
   "cell_type": "markdown",
   "metadata": {},
   "source": [
    "#P3: str.strip([chars]) & str.rstrip([chars]) & str.lstrip([chars])"
   ]
  },
  {
   "cell_type": "code",
   "execution_count": 30,
   "metadata": {},
   "outputs": [
    {
     "name": "stdout",
     "output_type": "stream",
     "text": [
      "x spacious x\n",
      "x spacious x\n",
      ".zexamplez.\n"
     ]
    }
   ],
   "source": [
    "#تحذف ما داخل السترب من الجهتين عندما يجد حرف بالستروب غير موجود بالجملة التي قبل السترب يتوقف عن الحذف \n",
    "print ('x', 'spacious' .strip(), 'x') \n",
    "print ('x', '   spacious    ' .strip(), 'x') \n",
    "print('www.zexamplez.com'.strip('cmowz.'))"
   ]
  },
  {
   "cell_type": "code",
   "execution_count": 24,
   "metadata": {},
   "outputs": [
    {
     "name": "stdout",
     "output_type": "stream",
     "text": [
      "x spacious x\n",
      ".example.com\n"
     ]
    }
   ],
   "source": [
    "#تحذف ما داخل السترب من اليسار عندما يجد حرف بالستروب غير موجود بالجملة التي قبل السترب يتوقف عن الحذف \n",
    "print ('x', '   spacious  ' .lstrip(), 'x')\n",
    "print('www.example.com'.lstrip('cmowzز'))"
   ]
  },
  {
   "cell_type": "code",
   "execution_count": 23,
   "metadata": {},
   "outputs": [
    {
     "name": "stdout",
     "output_type": "stream",
     "text": [
      "x spacious x\n",
      "www.example.\n"
     ]
    }
   ],
   "source": [
    "#تحذف ما داخل السترب من اليمين عندما يجد حرف بالستروب غير موجود بالجملة التي قبل السترب يتوقف عن الحذف \n",
    "print ('x', '  spacious  ' .rstrip(), 'x')\n",
    "print('www.example.com'.rstrip('cmowzز'))"
   ]
  },
  {
   "cell_type": "code",
   "execution_count": null,
   "metadata": {},
   "outputs": [],
   "source": []
  }
 ],
 "metadata": {
  "kernelspec": {
   "display_name": "Python 3",
   "language": "python",
   "name": "python3"
  },
  "language_info": {
   "codemirror_mode": {
    "name": "ipython",
    "version": 3
   },
   "file_extension": ".py",
   "mimetype": "text/x-python",
   "name": "python",
   "nbconvert_exporter": "python",
   "pygments_lexer": "ipython3",
   "version": "3.7.4"
  }
 },
 "nbformat": 4,
 "nbformat_minor": 2
}
