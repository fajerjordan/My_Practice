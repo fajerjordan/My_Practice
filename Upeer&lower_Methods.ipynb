{
 "cells": [
  {
   "cell_type": "code",
   "execution_count": 13,
   "metadata": {},
   "outputs": [
    {
     "name": "stdout",
     "output_type": "stream",
     "text": [
      "yaZeed haSsn\n",
      "False\n",
      "False\n",
      "False\n",
      "YAZEED HASSN\n",
      "yazeed hassn\n",
      "Yazeed hassn\n",
      "Yazeed Hassn\n"
     ]
    }
   ],
   "source": [
    "x = 'yaZeed haSsn'\n",
    "print(x)\n",
    "print(x.isupper())\n",
    "print(x.islower())\n",
    "print(x.istitle())\n",
    "print(x.upper())\n",
    "print(x.lower())\n",
    "print(x.capitalize())\n",
    "print(x.title())"
   ]
  },
  {
   "cell_type": "code",
   "execution_count": null,
   "metadata": {},
   "outputs": [],
   "source": []
  }
 ],
 "metadata": {
  "kernelspec": {
   "display_name": "Python 3",
   "language": "python",
   "name": "python3"
  },
  "language_info": {
   "codemirror_mode": {
    "name": "ipython",
    "version": 3
   },
   "file_extension": ".py",
   "mimetype": "text/x-python",
   "name": "python",
   "nbconvert_exporter": "python",
   "pygments_lexer": "ipython3",
   "version": "3.7.4"
  }
 },
 "nbformat": 4,
 "nbformat_minor": 2
}
