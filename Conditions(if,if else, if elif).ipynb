{
 "cells": [
  {
   "cell_type": "code",
   "execution_count": 5,
   "metadata": {},
   "outputs": [
    {
     "name": "stdout",
     "output_type": "stream",
     "text": [
      "ohhhh\n"
     ]
    }
   ],
   "source": [
    "# if steatment \n",
    "y = 'yazeed'\n",
    "if y == 'yazeed':\n",
    "    print ('ohhhh')"
   ]
  },
  {
   "cell_type": "code",
   "execution_count": 14,
   "metadata": {},
   "outputs": [
    {
     "name": "stdout",
     "output_type": "stream",
     "text": [
      "who are you ?\n"
     ]
    }
   ],
   "source": [
    "# if else steatment \n",
    "y = 'my name'\n",
    "if y == 'yazeed':\n",
    "    print ('ohhhh')\n",
    "else:\n",
    "        print('who are you ?')"
   ]
  },
  {
   "cell_type": "code",
   "execution_count": 15,
   "metadata": {},
   "outputs": [
    {
     "name": "stdout",
     "output_type": "stream",
     "text": [
      "my name\n"
     ]
    }
   ],
   "source": [
    "# if elif steatment \n",
    "y = 'my name'\n",
    "if y == 'yazeed':\n",
    "    print ('ohhhh')\n",
    "elif 'e' in y:\n",
    "    print(y)\n",
    "else:\n",
    "    print('who are you ?')"
   ]
  },
  {
   "cell_type": "code",
   "execution_count": 18,
   "metadata": {},
   "outputs": [
    {
     "name": "stdout",
     "output_type": "stream",
     "text": [
      "Hello!\n"
     ]
    }
   ],
   "source": [
    "# if elif steatment \n",
    "y = 'my name'\n",
    "if y == 'yazeed':\n",
    "    print ('ohhhh')\n",
    "elif 'r' in y:\n",
    "    print(y)\n",
    "else:\n",
    "    print('Hello!')"
   ]
  },
  {
   "cell_type": "code",
   "execution_count": null,
   "metadata": {},
   "outputs": [],
   "source": []
  }
 ],
 "metadata": {
  "kernelspec": {
   "display_name": "Python 3",
   "language": "python",
   "name": "python3"
  },
  "language_info": {
   "codemirror_mode": {
    "name": "ipython",
    "version": 3
   },
   "file_extension": ".py",
   "mimetype": "text/x-python",
   "name": "python",
   "nbconvert_exporter": "python",
   "pygments_lexer": "ipython3",
   "version": "3.7.4"
  }
 },
 "nbformat": 4,
 "nbformat_minor": 2
}
